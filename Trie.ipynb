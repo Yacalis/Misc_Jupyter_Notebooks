{
 "cells": [
  {
   "cell_type": "markdown",
   "metadata": {
    "ExecuteTime": {
     "end_time": "2018-06-27T17:41:27.166875Z",
     "start_time": "2018-06-27T17:41:27.158308Z"
    }
   },
   "source": [
    "# Objective: write a function that creates a trie data structure"
   ]
  },
  {
   "cell_type": "code",
   "execution_count": 1,
   "metadata": {
    "ExecuteTime": {
     "end_time": "2018-06-27T20:46:46.052751Z",
     "start_time": "2018-06-27T20:46:46.000071Z"
    }
   },
   "outputs": [],
   "source": [
    "# Creating a Node class to represent the nodes in the trie\n",
    "\n",
    "# NOTE: for some reason, when I set the default value of an argument to be\n",
    "# an empty list in __init__, that list was shared between every instance of\n",
    "# the class instead of being bound to only specific instances of the class.\n",
    "# I should know why that happened, but I don't.\n",
    "\n",
    "class Node(object):\n",
    "    \"\"\"\n",
    "    This class is specifically for trie nodes corresponding to phonemes\n",
    "    \n",
    "    Arguments:\n",
    "    key:       the string representation of the phoneme\n",
    "               default: None\n",
    "    \n",
    "    vals:      a list of strings representing word(s);\n",
    "               this typically occurs only at the end of a series of nodes\n",
    "               that together, in sequence, form the phonemes of the word(s)\n",
    "               default: []\n",
    "    \n",
    "    children:  a list of nodes that are the children of the node;\n",
    "               if a node has children, it typically will not have any vals\n",
    "               default: []\n",
    "    \n",
    "    \"\"\"\n",
    "    \n",
    "    def __init__(self, key=None, vals=None, children=None):\n",
    "        self.key = key\n",
    "        \n",
    "        # enables the argument to be a single value instead of a list\n",
    "        if vals is not None:\n",
    "            if type(vals) == list:\n",
    "                self.vals = vals\n",
    "            else:\n",
    "                self.vals = [vals]\n",
    "        else:\n",
    "            self.vals = []\n",
    "        \n",
    "        # enables the argument to be a single value instead of a list\n",
    "        if children is not None:\n",
    "            if type(children) == list:\n",
    "                self.children = children\n",
    "            else:\n",
    "                self.children = [children]\n",
    "        else:\n",
    "            self.children = []\n",
    "    \n",
    "    # just a convenience method for adding children, makes it more readable and saves space\n",
    "    def addchild(self, child):\n",
    "        self.children.append(child)\n",
    "        \n",
    "    # just a convenience method for adding vals, makes it more readable and saves space\n",
    "    def addval(self, val):\n",
    "        self.vals.append(val)"
   ]
  },
  {
   "cell_type": "code",
   "execution_count": 2,
   "metadata": {
    "ExecuteTime": {
     "end_time": "2018-06-27T20:46:53.529466Z",
     "start_time": "2018-06-27T20:46:53.462880Z"
    }
   },
   "outputs": [],
   "source": [
    "# NOTE: currently does NOT break, but does nothing special if a phoneme string is length 0,\n",
    "# if an empty key list has a value, or if the keys and vals lists are different lengths or\n",
    "# have no length; BREAKS if the keys or vals params are None or are not iterable in zip,\n",
    "# and basically if any of the parameters anywhere have unexpected values\n",
    "\n",
    "def build_trie(keys, vals):\n",
    "    \"\"\"\n",
    "    Builds a trie data structure from a list of lists of strings and a list of \n",
    "    (the strings are phonemes and may be any number of chars)\n",
    "    \n",
    "    Params:\n",
    "    keys: a list of lists of strings \n",
    "          (list of lists of phonemes represented as strings)\n",
    "    vals: a list of strings which will be the vals for the final node of each key\n",
    "          (list of words created from the series of phonemes from the keys)\n",
    "    \n",
    "    Returns:\n",
    "    a trie data structure composed of the keys and values as nodes\n",
    "    \"\"\"\n",
    "    rootnode = Node('ROOT')\n",
    "    \n",
    "    # add keys to rootnode\n",
    "    for key, val in zip(keys, vals):\n",
    "        \n",
    "        # stop if there are no phonemes in the key itself\n",
    "        if len(key) == 0:\n",
    "            continue\n",
    "            \n",
    "        # turn the list of phonemes in the key into a list of Nodes with phoneme keys\n",
    "        # because this is a trie, the rootnode is always at the front of the list\n",
    "        nodelist = [rootnode] + [Node(phone) for phone in key]\n",
    "        endindex = len(nodelist) - 1\n",
    "\n",
    "        # check if the node already has the next node's phoneme key in the list as a child\n",
    "        # if it does not, add that node as a child node\n",
    "        # if it does, replace that next node in the list with the existing node\n",
    "        # we don't want to include the last node of the list, because the last node should have a \\\n",
    "        # value instead of another node after it\n",
    "        for j in range(endindex):\n",
    "            addchild = True\n",
    "            for child in nodelist[j].children:\n",
    "                if child.key == nodelist[j+1].key:\n",
    "                    nodelist[j+1] = child\n",
    "                    addchild = False\n",
    "                    continue\n",
    "            if addchild:\n",
    "                nodelist[j].addchild(nodelist[j+1])\n",
    "        \n",
    "        # if the end node does not have the value already, add it\n",
    "        # this could actually run at any time after the nodelist is created\n",
    "        if not val in nodelist[endindex].vals:\n",
    "            nodelist[endindex].addval(val)\n",
    "    \n",
    "    return rootnode"
   ]
  },
  {
   "cell_type": "code",
   "execution_count": 3,
   "metadata": {
    "ExecuteTime": {
     "end_time": "2018-06-27T20:46:56.605549Z",
     "start_time": "2018-06-27T20:46:56.598113Z"
    }
   },
   "outputs": [],
   "source": [
    "# A recursive function to help visualize a particular trie\n",
    "def print_trie(trie, i=0, sep=''):\n",
    "    print(sep, i, trie.key, trie.vals)\n",
    "    for child in trie.children:\n",
    "        print_trie(child, i+1, sep+'\\t')"
   ]
  },
  {
   "cell_type": "markdown",
   "metadata": {},
   "source": [
    "## Some really basic, non-rigorous examples, and phonemes string representations are not guaranteed accurate"
   ]
  },
  {
   "cell_type": "markdown",
   "metadata": {},
   "source": [
    "### Example 1"
   ]
  },
  {
   "cell_type": "code",
   "execution_count": 4,
   "metadata": {
    "ExecuteTime": {
     "end_time": "2018-06-27T20:47:00.033499Z",
     "start_time": "2018-06-27T20:47:00.008188Z"
    }
   },
   "outputs": [
    {
     "name": "stdout",
     "output_type": "stream",
     "text": [
      " 0 ROOT []\n",
      "\t 1 k []\n",
      "\t\t 2 aa []\n",
      "\t\t\t 3 r []\n",
      "\t\t\t\t 4 d ['CARD']\n",
      "\t 1 h []\n",
      "\t\t 2 aa []\n",
      "\t\t\t 3 r []\n",
      "\t\t\t\t 4 t ['HART', 'HEART']\n",
      "\t\t\t\t 4 d ['HARD']\n",
      "\t 1 ey ['A']\n",
      "\t 1 ax ['A']\n"
     ]
    }
   ],
   "source": [
    "keys = [['k', 'aa', 'r', 'd'],\n",
    "        ['h', 'aa', 'r', 't'],\n",
    "        ['h', 'aa', 'r', 't'],\n",
    "        ['h', 'aa', 'r', 'd'],\n",
    "        ['ey'],\n",
    "        ['ax']]\n",
    "\n",
    "values = ['CARD', 'HART', 'HEART', 'HARD', 'A', 'A']\n",
    "\n",
    "trie = build_trie(keys, values)\n",
    "print_trie(trie)"
   ]
  },
  {
   "cell_type": "markdown",
   "metadata": {},
   "source": [
    "### Example 2"
   ]
  },
  {
   "cell_type": "code",
   "execution_count": 5,
   "metadata": {
    "ExecuteTime": {
     "end_time": "2018-06-27T20:47:06.459630Z",
     "start_time": "2018-06-27T20:47:06.432341Z"
    }
   },
   "outputs": [
    {
     "name": "stdout",
     "output_type": "stream",
     "text": [
      " 0 ROOT []\n",
      "\t 1 b []\n",
      "\t\t 2 r []\n",
      "\t\t\t 3 i []\n",
      "\t\t\t\t 4 dj ['BRIDGE']\n",
      "\t\t\t 3 e []\n",
      "\t\t\t\t 4 d ['BREAD', 'BRED']\n",
      "\t 1 s []\n",
      "\t\t 2 t []\n",
      "\t\t\t 3 r []\n",
      "\t\t\t\t 4 ii []\n",
      "\t\t\t\t\t 5 p ['STRIPE']\n",
      "\t 1 sh []\n",
      "\t\t 2 a []\n",
      "\t\t\t 3 r []\n",
      "\t\t\t\t 4 d ['SHARD']\n",
      "\t 1 ii ['I']\n",
      "\t 1  ['KICK']\n"
     ]
    }
   ],
   "source": [
    "keys = [['b', 'r', 'i', 'dj'],\n",
    "        ['b', 'r', 'e', 'd'],        \n",
    "        ['s', 't', 'r', 'ii', 'p'],\n",
    "        ['sh', 'a', 'r', 'd'],\n",
    "        ['ii'],\n",
    "        [''],\n",
    "        [],\n",
    "        ['b', 'r', 'e', 'd']]\n",
    "\n",
    "values = ['BRIDGE', 'BREAD', 'STRIPE', 'SHARD', 'I', 'KICK', 'SCRAPE', 'BRED']\n",
    "\n",
    "trie = build_trie(keys, values)\n",
    "print_trie(trie)"
   ]
  },
  {
   "cell_type": "markdown",
   "metadata": {},
   "source": [
    "### Example 3"
   ]
  },
  {
   "cell_type": "code",
   "execution_count": 6,
   "metadata": {
    "ExecuteTime": {
     "end_time": "2018-06-27T20:47:09.195724Z",
     "start_time": "2018-06-27T20:47:09.187723Z"
    }
   },
   "outputs": [
    {
     "name": "stdout",
     "output_type": "stream",
     "text": [
      " 0 ROOT []\n"
     ]
    }
   ],
   "source": [
    "keys = []\n",
    "\n",
    "values = ['BRIDGE', 'BREAD', 'STRIPE', 'SHARD', 'KICK', 'SCRAPE', 'BRED']\n",
    "\n",
    "trie = build_trie(keys, values)\n",
    "print_trie(trie)"
   ]
  },
  {
   "cell_type": "markdown",
   "metadata": {},
   "source": [
    "## Just code, no notes"
   ]
  },
  {
   "cell_type": "raw",
   "metadata": {
    "ExecuteTime": {
     "end_time": "2018-06-27T20:15:40.240076Z",
     "start_time": "2018-06-27T20:15:40.184123Z"
    }
   },
   "source": [
    "class Node(object):\n",
    "    \n",
    "    def __init__(self, key=None, vals=None, children=None):\n",
    "        self.key = key\n",
    "        if vals is not None:\n",
    "            if type(vals) == list:\n",
    "                self.vals = vals\n",
    "            else:\n",
    "                self.vals = [vals]\n",
    "        else:\n",
    "            self.vals = []\n",
    "        if children is not None:\n",
    "            if type(children) == list:\n",
    "                self.children = children\n",
    "            else:\n",
    "                self.children = [children]\n",
    "        else:\n",
    "            self.children = []\n",
    "    \n",
    "    def addchild(self, child):\n",
    "        self.children.append(child)\n",
    "        \n",
    "    def addval(self, val):\n",
    "        self.vals.append(val)\n",
    "\n",
    "def build_trie(keys, vals):\n",
    "    rootnode = Node('ROOT')\n",
    "    for key, val in zip(keys, vals):\n",
    "        if len(key) == 0:\n",
    "            continue\n",
    "        nodelist = [rootnode] + [Node(phone) for phone in key]\n",
    "        endindex = len(nodelist) - 1\n",
    "        for j in range(endindex):\n",
    "            addchild = True\n",
    "            for child in nodelist[j].children:\n",
    "                if child.key == nodelist[j+1].key:\n",
    "                    nodelist[j+1] = child\n",
    "                    addchild = False\n",
    "                    continue\n",
    "            if addchild:\n",
    "                nodelist[j].addchild(nodelist[j+1])\n",
    "        if not val in nodelist[endindex].vals:\n",
    "            nodelist[endindex].addval(val)\n",
    "    \n",
    "    return rootnode\n",
    "\n",
    "def print_trie(trie, i=0, sep=''):\n",
    "    print(sep, i, trie.key, trie.vals)\n",
    "    for child in trie.children:\n",
    "        print_trie(child, i+1, sep+'\\t')"
   ]
  }
 ],
 "metadata": {
  "kernelspec": {
   "display_name": "Python 3",
   "language": "python",
   "name": "python3"
  },
  "language_info": {
   "codemirror_mode": {
    "name": "ipython",
    "version": 3
   },
   "file_extension": ".py",
   "mimetype": "text/x-python",
   "name": "python",
   "nbconvert_exporter": "python",
   "pygments_lexer": "ipython3",
   "version": "3.6.1"
  },
  "latex_envs": {
   "LaTeX_envs_menu_present": true,
   "autoclose": false,
   "autocomplete": true,
   "bibliofile": "biblio.bib",
   "cite_by": "apalike",
   "current_citInitial": 1,
   "eqLabelWithNumbers": true,
   "eqNumInitial": 1,
   "hotkeys": {
    "equation": "Ctrl-E",
    "itemize": "Ctrl-I"
   },
   "labels_anchors": false,
   "latex_user_defs": false,
   "report_style_numbering": false,
   "user_envs_cfg": false
  },
  "varInspector": {
   "cols": {
    "lenName": 16,
    "lenType": 16,
    "lenVar": 40
   },
   "kernels_config": {
    "python": {
     "delete_cmd_postfix": "",
     "delete_cmd_prefix": "del ",
     "library": "var_list.py",
     "varRefreshCmd": "print(var_dic_list())"
    },
    "r": {
     "delete_cmd_postfix": ") ",
     "delete_cmd_prefix": "rm(",
     "library": "var_list.r",
     "varRefreshCmd": "cat(var_dic_list()) "
    }
   },
   "types_to_exclude": [
    "module",
    "function",
    "builtin_function_or_method",
    "instance",
    "_Feature"
   ],
   "window_display": false
  }
 },
 "nbformat": 4,
 "nbformat_minor": 2
}
